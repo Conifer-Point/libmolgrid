{
 "cells": [
  {
   "cell_type": "code",
   "execution_count": 1,
   "metadata": {},
   "outputs": [],
   "source": [
    "import torch"
   ]
  },
  {
   "cell_type": "code",
   "execution_count": 2,
   "metadata": {},
   "outputs": [],
   "source": [
    "import molgrid"
   ]
  },
  {
   "cell_type": "code",
   "execution_count": 3,
   "metadata": {},
   "outputs": [],
   "source": [
    "from openbabel import pybel"
   ]
  },
  {
   "cell_type": "code",
   "execution_count": 4,
   "metadata": {},
   "outputs": [],
   "source": [
    "# create simple molecule\n",
    "m = pybel.readstring('smi','C')\n",
    "m.addh()"
   ]
  },
  {
   "cell_type": "code",
   "execution_count": 5,
   "metadata": {},
   "outputs": [],
   "source": [
    "# atom typing based on atomic number and valence, with a constant radius of 1.5\n",
    "def mytyper(atom):\n",
    "    if hasattr(atom, 'GetValence'):\n",
    "        return ([atom.GetAtomicNum(),atom.GetValence()], 1.5)\n",
    "    else:\n",
    "        return ([atom.GetAtomicNum(),atom.GetExplicitDegree()], 1.5)"
   ]
  },
  {
   "cell_type": "code",
   "execution_count": 6,
   "metadata": {},
   "outputs": [],
   "source": [
    "# create the typer; the explicit names may be omitted, in which case numerical names\n",
    "# will be automatically created\n",
    "t = molgrid.PythonCallbackVectorTyper(mytyper, 2, [\"anum\",\"valence\"])"
   ]
  },
  {
   "cell_type": "code",
   "execution_count": 7,
   "metadata": {},
   "outputs": [],
   "source": [
    "# get types for our simple molecule using our typer\n",
    "types = [t.get_atom_type_vector(a.OBAtom) for a in m.atoms]"
   ]
  }
 ],
 "metadata": {
  "kernelspec": {
   "display_name": "Python 3",
   "language": "python",
   "name": "python3"
  },
  "language_info": {
   "codemirror_mode": {
    "name": "ipython",
    "version": 3
   },
   "file_extension": ".py",
   "mimetype": "text/x-python",
   "name": "python",
   "nbconvert_exporter": "python",
   "pygments_lexer": "ipython3",
   "version": "3.6.8"
  }
 },
 "nbformat": 4,
 "nbformat_minor": 2
}
